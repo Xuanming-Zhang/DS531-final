{
 "cells": [
  {
   "cell_type": "code",
   "execution_count": 34,
   "id": "8becfd7b",
   "metadata": {},
   "outputs": [],
   "source": [
    "import pandas as pd\n",
    "import statsmodels.api as sm\n",
    "from sklearn.linear_model import LinearRegression\n",
    "from scipy import stats"
   ]
  },
  {
   "cell_type": "code",
   "execution_count": 35,
   "id": "893ca263",
   "metadata": {},
   "outputs": [],
   "source": [
    "# read data\n",
    "county = pd.read_csv('county.csv')\n",
    "access = pd.read_csv('accessability.csv')\n",
    "afford = pd.read_csv('affordability.csv')\n",
    "tmf = pd.read_csv('TMF.csv')\n",
    "data = pd.read_csv('demographic.csv', index_col=0)"
   ]
  },
  {
   "cell_type": "markdown",
   "id": "a9ac75d8",
   "metadata": {},
   "source": [
    "# Data processing"
   ]
  },
  {
   "cell_type": "code",
   "execution_count": 36,
   "id": "7a93535c",
   "metadata": {},
   "outputs": [],
   "source": [
    "# process accessibility data for each county, use 'mean' to aggregate.\n",
    "county_access = pd.merge(left=county, right=access, how='left', left_on='PWSID', right_on='PWSID')\n",
    "county_access = county_access.drop(['PWSID', 'Water System Name_x', 'Water System Name_y'], axis=1)\n",
    "county_access = county_access.groupby('County').mean()\n",
    "\n",
    "# process affordability data for each county, use 'mean' to aggregate.\n",
    "county_afford = pd.merge(left=county, right=afford, how='left', left_on='PWSID', right_on='PWSID')\n",
    "county_afford = county_afford.drop(['PWSID', 'Water System Name_x', 'Water System Name_y'], axis=1)\n",
    "county_afford = county_afford[county_afford['Drinking Water Charges'].notna()]\n",
    "county_afford = county_afford.groupby('County').mean()\n",
    "\n",
    "# process tmf data for each county, use 'mean' to aggregate.\n",
    "county_tmf = pd.merge(left=county, right=tmf, how='left', left_on='PWSID', right_on='PWSID')\n",
    "county_tmf = county_tmf.drop(['PWSID', 'Water System Name_x', 'Water System Name_y'], axis=1)\n",
    "county_tmf = county_tmf.groupby('County').mean()"
   ]
  },
  {
   "cell_type": "code",
   "execution_count": 37,
   "id": "487a8fd1",
   "metadata": {},
   "outputs": [],
   "source": [
    "y = data.iloc[:, 0]\n",
    "\n",
    "X = data.iloc[:, 1:]\n",
    "# Concat protected features and non-sensitive features\n",
    "data = pd.concat([X, county_access, county_afford, county_tmf], axis=1)"
   ]
  },
  {
   "cell_type": "markdown",
   "id": "b6c340d3",
   "metadata": {},
   "source": [
    "# Linear Regression"
   ]
  },
  {
   "cell_type": "code",
   "execution_count": 38,
   "id": "6a0ff97d",
   "metadata": {},
   "outputs": [
    {
     "name": "stdout",
     "output_type": "stream",
     "text": [
      "                                     OLS Regression Results                                     \n",
      "================================================================================================\n",
      "Dep. Variable:     AVERAGE of Total Weighted Risk Score   R-squared:                       0.463\n",
      "Model:                                              OLS   Adj. R-squared:                  0.335\n",
      "Method:                                   Least Squares   F-statistic:                     3.613\n",
      "Date:                                  Tue, 03 May 2022   Prob (F-statistic):            0.00101\n",
      "Time:                                          11:45:14   Log-Likelihood:                 31.910\n",
      "No. Observations:                                    58   AIC:                            -39.82\n",
      "Df Residuals:                                        46   BIC:                            -15.09\n",
      "Df Model:                                            11                                         \n",
      "Covariance Type:                              nonrobust                                         \n",
      "==============================================================================================================\n",
      "                                                 coef    std err          t      P>|t|      [0.025      0.975]\n",
      "--------------------------------------------------------------------------------------------------------------\n",
      "const                                         -2.8582      1.495     -1.912      0.062      -5.867       0.150\n",
      "Male                                           0.8348      1.018      0.820      0.417      -1.215       2.885\n",
      "White                                          2.0526      1.149      1.787      0.081      -0.260       4.365\n",
      "Black or African American                      0.2990      1.358      0.220      0.827      -2.435       3.033\n",
      "American Indian and Alaska Native              1.7813      1.069      1.667      0.102      -0.370       3.932\n",
      "Asian                                          2.2931      1.245      1.842      0.072      -0.213       4.799\n",
      "Native Hawaiian and Other Pacific Islander     3.9528      7.899      0.500      0.619     -11.948      19.853\n",
      "Some other race                                2.9310      1.061      2.763      0.008       0.796       5.066\n",
      "Total Number of Water Sources                  0.0311      0.032      0.977      0.334      -0.033       0.095\n",
      "DWR Risk Score                                 0.0174      0.005      3.453      0.001       0.007       0.028\n",
      "Drinking Water Charges                        -0.0021      0.002     -1.376      0.176      -0.005       0.001\n",
      "Number of Service Connections                  0.0002   9.92e-05      1.667      0.102   -3.44e-05       0.000\n",
      "==============================================================================\n",
      "Omnibus:                        0.168   Durbin-Watson:                   1.960\n",
      "Prob(Omnibus):                  0.920   Jarque-Bera (JB):                0.052\n",
      "Skew:                           0.071   Prob(JB):                        0.975\n",
      "Kurtosis:                       2.962   Cond. No.                     1.98e+05\n",
      "==============================================================================\n",
      "\n",
      "Notes:\n",
      "[1] Standard Errors assume that the covariance matrix of the errors is correctly specified.\n",
      "[2] The condition number is large, 1.98e+05. This might indicate that there are\n",
      "strong multicollinearity or other numerical problems.\n"
     ]
    }
   ],
   "source": [
    "reg = LinearRegression().fit(data, y)\n",
    "\n",
    "X2 = sm.add_constant(data)\n",
    "est = sm.OLS(y, X2)\n",
    "est2 = est.fit()\n",
    "print(est2.summary())"
   ]
  },
  {
   "cell_type": "markdown",
   "id": "bd3c1d7b",
   "metadata": {},
   "source": [
    "# T-test"
   ]
  },
  {
   "cell_type": "code",
   "execution_count": 39,
   "id": "da299c30",
   "metadata": {},
   "outputs": [
    {
     "name": "stdout",
     "output_type": "stream",
     "text": [
      "For Male\n",
      "mean values are: 0.7371428571428572 0.7967567567567567\n",
      "p-value is 0.24397108701545372\n",
      "\n",
      "For White\n",
      "mean values are: 0.7255882352941176 0.8454166666666666\n",
      "p-value is 0.03301880295705186\n",
      "\n",
      "For Black or African American\n",
      "mean values are: 0.7933333333333334 0.7688372093023257\n",
      "p-value is 0.7005702704383296\n",
      "\n",
      "For American Indian and Alaska Native\n",
      "mean values are: 0.7361111111111112 0.7927500000000002\n",
      "p-value is 0.23288957307985603\n",
      "\n",
      "For Asian\n",
      "mean values are: 0.7794444444444445 0.7732500000000002\n",
      "p-value is 0.9170218315609615\n",
      "\n",
      "For Native Hawaiian and Other Pacific Islander\n",
      "mean values are: 0.7985 0.7628947368421054\n",
      "p-value is 0.4915122637485214\n",
      "\n",
      "For Some other race\n",
      "mean values are: 0.8204 0.7409090909090909\n",
      "p-value is 0.14311641759906482\n",
      "\n"
     ]
    }
   ],
   "source": [
    "def t_test(col):\n",
    "    white_more_county_risk = data[data[col] >= data[col].mean()]['AVERAGE of Total Weighted Risk Score']\n",
    "    white_less_county_risk = data[data[col] < data[col].mean()]['AVERAGE of Total Weighted Risk Score']\n",
    "\n",
    "    mean_risk_white_more = sum(white_more_county_risk) / len(white_more_county_risk)\n",
    "    mean_risk_white_less = sum(white_less_county_risk) / len(white_less_county_risk)\n",
    "\n",
    "    print('mean values are:', mean_risk_white_more, mean_risk_white_less)\n",
    "\n",
    "    p_value_adult = stats.ttest_ind(white_less_county_risk, white_more_county_risk, equal_var=False)[1]\n",
    "    print('p-value is', p_value_adult)\n",
    "\n",
    "data = pd.concat([data, y], axis=1)\n",
    "columns = list(data.columns)\n",
    "for col in columns[:7]:\n",
    "    print('For ' + col)\n",
    "    t_test(col)\n",
    "    print()"
   ]
  }
 ],
 "metadata": {
  "kernelspec": {
   "display_name": "Python 3",
   "language": "python",
   "name": "python3"
  },
  "language_info": {
   "codemirror_mode": {
    "name": "ipython",
    "version": 3
   },
   "file_extension": ".py",
   "mimetype": "text/x-python",
   "name": "python",
   "nbconvert_exporter": "python",
   "pygments_lexer": "ipython3",
   "version": "3.6.6"
  }
 },
 "nbformat": 4,
 "nbformat_minor": 5
}
